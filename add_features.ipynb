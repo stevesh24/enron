{
 "cells": [
  {
   "cell_type": "code",
   "execution_count": 1,
   "metadata": {},
   "outputs": [
    {
     "data": {
      "text/plain": [
       "'\\nadd_features.py\\ninput: df_20 (103480 rows, 20% of enron dataset)\\noutput: df_20_features.csv\\n\\nFeatures added (only 1 for now):\\nis_external: email sent or received from outside of enron\\n'"
      ]
     },
     "execution_count": 1,
     "metadata": {},
     "output_type": "execute_result"
    }
   ],
   "source": [
    "'''\n",
    "add_features.ipynb\n",
    "input: df_20 (103480 rows, 20% of enron dataset)\n",
    "output: df_20_features.csv\n",
    "\n",
    "Features added (only 1 for now):\n",
    "is_external: email sent or received from outside of enron\n",
    "'''\n"
   ]
  },
  {
   "cell_type": "code",
   "execution_count": 2,
   "metadata": {},
   "outputs": [],
   "source": [
    "%matplotlib inline\n",
    "import numpy as np\n",
    "import pandas as pd\n",
    "import matplotlib.pyplot as plt\n",
    "import os\n",
    "import math\n",
    "import sys\n",
    "import copy\n",
    "import sklearn\n",
    "import nltk\n",
    "import re\n",
    "import email\n"
   ]
  },
  {
   "cell_type": "code",
   "execution_count": 3,
   "metadata": {},
   "outputs": [
    {
     "name": "stdout",
     "output_type": "stream",
     "text": [
      "(103480, 12)\n",
      "Index(['Unnamed: 0', 'file', 'message', 'email_to', 'email_from', 'cc', 'bcc',\n",
      "       'subject', 'x_from', 'x_to', 'date_sent', 'body'],\n",
      "      dtype='object')\n"
     ]
    }
   ],
   "source": [
    "# read in df_20.csv\n",
    "df_20 = pd.read_csv('df_20.csv')\n",
    "print(df_20.shape)\n",
    "print(df_20.columns)\n"
   ]
  },
  {
   "cell_type": "code",
   "execution_count": 4,
   "metadata": {},
   "outputs": [],
   "source": [
    "df_20.columns = ['index_orig', 'file', 'message', 'email_to', 'email_from', 'cc', 'bcc', 'subject', 'x_from', 'x_to', \n",
    "                 'date_sent', 'body']"
   ]
  },
  {
   "cell_type": "code",
   "execution_count": 5,
   "metadata": {},
   "outputs": [],
   "source": [
    "# Add is_external: Boolean, if received or sent outside of enron\n"
   ]
  },
  {
   "cell_type": "code",
   "execution_count": 6,
   "metadata": {},
   "outputs": [
    {
     "name": "stdout",
     "output_type": "stream",
     "text": [
      "count     103471\n",
      "unique         2\n",
      "top        False\n",
      "freq       69136\n",
      "Name: is_external, dtype: object\n",
      "0     True\n",
      "1    False\n",
      "2    False\n",
      "3    False\n",
      "4    False\n",
      "5    False\n",
      "6    False\n",
      "7    False\n",
      "8    False\n",
      "9    False\n",
      "Name: is_external, dtype: object\n"
     ]
    }
   ],
   "source": [
    "def calc_is_external(row):\n",
    "\n",
    "    try:\n",
    "        # find domain of email_to and email_from\n",
    "        if not pd.isnull(row.email_to):\n",
    "            to_domain = row.email_to.split('@')[1]\n",
    "        else:\n",
    "            to_domain = None\n",
    "        if not pd.isnull(row.email_from):\n",
    "            from_domain = row.email_from.split('@')[1]\n",
    "        else:\n",
    "            from_domain = None\n",
    "        \n",
    "        # if either domain is not enron.com, flag is_external as True\n",
    "        if to_domain != 'enron.com' or from_domain != 'enron.com':\n",
    "            return True\n",
    "        # if either domain is null, flag is_external as None\n",
    "        elif to_domain is None or from_domain is None:\n",
    "            return None\n",
    "        # if both email domains equal enron.com, flag is_external as False (internal)\n",
    "        elif to_domain == 'enron.com' and from_domain == 'enron.com':\n",
    "            return False\n",
    "    except:\n",
    "        return None\n",
    "        \n",
    "df_20['is_external'] = df_20.apply(calc_is_external, axis = 1)    \n",
    "print(df_20['is_external'].describe())  \n",
    "print(df_20['is_external'].iloc[0:10])  \n"
   ]
  },
  {
   "cell_type": "code",
   "execution_count": 7,
   "metadata": {},
   "outputs": [
    {
     "name": "stdout",
     "output_type": "stream",
     "text": [
      "(103480, 13)\n",
      "Index(['index_orig', 'file', 'message', 'email_to', 'email_from', 'cc', 'bcc',\n",
      "       'subject', 'x_from', 'x_to', 'date_sent', 'body', 'is_external'],\n",
      "      dtype='object')\n"
     ]
    }
   ],
   "source": [
    "print(df_20.shape)\n",
    "print(df_20.columns)\n"
   ]
  },
  {
   "cell_type": "code",
   "execution_count": 8,
   "metadata": {},
   "outputs": [],
   "source": [
    "# write df_20_features.csv \n",
    "\n",
    "df_20.to_csv('df_20_features.csv', index = False)\n"
   ]
  },
  {
   "cell_type": "code",
   "execution_count": null,
   "metadata": {},
   "outputs": [],
   "source": []
  }
 ],
 "metadata": {
  "kernelspec": {
   "display_name": "Python 3",
   "language": "python",
   "name": "python3"
  },
  "language_info": {
   "codemirror_mode": {
    "name": "ipython",
    "version": 3
   },
   "file_extension": ".py",
   "mimetype": "text/x-python",
   "name": "python",
   "nbconvert_exporter": "python",
   "pygments_lexer": "ipython3",
   "version": "3.7.6"
  }
 },
 "nbformat": 4,
 "nbformat_minor": 4
}
