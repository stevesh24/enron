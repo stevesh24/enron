{
 "cells": [
  {
   "cell_type": "code",
   "execution_count": 1,
   "metadata": {},
   "outputs": [
    {
     "data": {
      "text/plain": [
       "' \\nparser.py\\ninput: emails.csv\\noutput: df_20.csv\\n\\n1. Cut down enron file to 20% of original, selecting random entries.\\n\\n2. Parse email messages into fields\\nNew fields (columns):\\nemail_to\\nemail_from\\ncc\\nbcc\\nsubject\\nx_from\\nx_to\\ndate_sent\\nbody\\n'"
      ]
     },
     "execution_count": 1,
     "metadata": {},
     "output_type": "execute_result"
    }
   ],
   "source": [
    "''' \n",
    "parser.ipynb\n",
    "input: emails.csv\n",
    "output: df_20.csv\n",
    "\n",
    "1. Cut down enron file to 20% of original, selecting random entries.\n",
    "\n",
    "2. Parse email messages into fields\n",
    "New fields (columns):\n",
    "email_to\n",
    "email_from\n",
    "cc\n",
    "bcc\n",
    "subject\n",
    "x_from\n",
    "x_to\n",
    "date_sent\n",
    "body\n",
    "'''\n"
   ]
  },
  {
   "cell_type": "code",
   "execution_count": 2,
   "metadata": {},
   "outputs": [],
   "source": [
    "%matplotlib inline\n",
    "import numpy as np\n",
    "import pandas as pd\n",
    "import matplotlib.pyplot as plt\n",
    "import os\n",
    "import math\n",
    "import sys\n",
    "import copy\n",
    "import re\n",
    "import email\n",
    "import random\n"
   ]
  },
  {
   "cell_type": "code",
   "execution_count": 3,
   "metadata": {},
   "outputs": [],
   "source": [
    "df = pd.read_csv('emails.csv')\n"
   ]
  },
  {
   "cell_type": "code",
   "execution_count": 4,
   "metadata": {},
   "outputs": [
    {
     "name": "stdout",
     "output_type": "stream",
     "text": [
      "(517401, 2)\n",
      "Index(['file', 'message'], dtype='object')\n"
     ]
    }
   ],
   "source": [
    "print(df.shape)\n",
    "print(df.columns)\n"
   ]
  },
  {
   "cell_type": "code",
   "execution_count": 5,
   "metadata": {},
   "outputs": [],
   "source": [
    "#\n",
    "# 1. Cut down enron file to 20% of original, selecting random entries.\n",
    "#\n"
   ]
  },
  {
   "cell_type": "code",
   "execution_count": 6,
   "metadata": {},
   "outputs": [
    {
     "name": "stdout",
     "output_type": "stream",
     "text": [
      "103480\n",
      "(103480, 2)\n",
      "Index(['file', 'message'], dtype='object')\n"
     ]
    }
   ],
   "source": [
    "# create df_20\n",
    "\n",
    "# size of df_20.csv\n",
    "new_size = round(int(df.shape[0] *0.20))\n",
    "print(new_size)\n",
    "\n",
    "# pick random indices\n",
    "new_ind = random.sample(range(0, df.shape[0]), new_size)\n",
    "\n",
    "# create df_20\n",
    "df_20 = df.iloc[new_ind]\n",
    "print(df_20.shape)\n",
    "print(df_20.columns)\n"
   ]
  },
  {
   "cell_type": "code",
   "execution_count": 7,
   "metadata": {},
   "outputs": [],
   "source": [
    "#\n",
    "# 2. Parse email messages into fields\n",
    "# New fields (columns):\n",
    "# email_to\n",
    "# email_from\n",
    "# cc\n",
    "# bcc\n",
    "# subject\n",
    "# x_from\n",
    "# x_to\n",
    "# date_sent\n",
    "# body\n",
    "#\n"
   ]
  },
  {
   "cell_type": "code",
   "execution_count": 8,
   "metadata": {},
   "outputs": [
    {
     "name": "stdout",
     "output_type": "stream",
     "text": [
      "to email_to\n"
     ]
    },
    {
     "name": "stderr",
     "output_type": "stream",
     "text": [
      "C:\\Users\\ibshi\\anaconda3\\lib\\site-packages\\ipykernel_launcher.py:15: SettingWithCopyWarning: \n",
      "A value is trying to be set on a copy of a slice from a DataFrame.\n",
      "Try using .loc[row_indexer,col_indexer] = value instead\n",
      "\n",
      "See the caveats in the documentation: https://pandas.pydata.org/pandas-docs/stable/user_guide/indexing.html#returning-a-view-versus-a-copy\n",
      "  from ipykernel import kernelapp as app\n"
     ]
    },
    {
     "name": "stdout",
     "output_type": "stream",
     "text": [
      "count     103480\n",
      "unique     11128\n",
      "top             \n",
      "freq        4369\n",
      "Name: email_to, dtype: object\n",
      "307592           kay.mann@enron.com\n",
      "377306    benjamin.rogers@enron.com\n",
      "211179        john.nowlan@enron.com\n",
      "258824     louise.kitchen@enron.com\n",
      "502896            lou.pai@enron.com\n",
      "104112       gary.stadler@enron.com\n",
      "510109      chris.mallory@enron.com\n",
      "440768      airam.arteaga@enron.com\n",
      "451619      david.forster@enron.com\n",
      "114270        joe.capasso@enron.com\n",
      "Name: email_to, dtype: object\n",
      "from email_from\n",
      "count                 103480\n",
      "unique                 10307\n",
      "top       kay.mann@enron.com\n",
      "freq                    3387\n",
      "Name: email_from, dtype: object\n",
      "307592    jeremiahdeberry@paulhastings.com\n",
      "377306         richard.broussard@enron.com\n",
      "211179            vince.kaminski@enron.com\n",
      "258824           dorie.hitchcock@enron.com\n",
      "502896            david.delainey@enron.com\n",
      "104112            david.baumbach@enron.com\n",
      "510109           grace.rodriguez@enron.com\n",
      "440768            hunter.shively@enron.com\n",
      "451619               carol.clair@enron.com\n",
      "114270                 m..forney@enron.com\n",
      "Name: email_from, dtype: object\n",
      "cc cc\n",
      "count     103480\n",
      "unique      4583\n",
      "top             \n",
      "freq       77841\n",
      "Name: cc, dtype: object\n",
      "307592    michael.young@northwestern.com\n",
      "377306                                  \n",
      "211179          vince.kaminski@enron.com\n",
      "258824                                  \n",
      "502896                                  \n",
      "104112        steve.venturatos@enron.com\n",
      "510109            kathy.axford@enron.com\n",
      "440768                                  \n",
      "451619             mark.taylor@enron.com\n",
      "114270                                  \n",
      "Name: cc, dtype: object\n",
      "bcc bcc\n",
      "count     103480\n",
      "unique      4583\n",
      "top             \n",
      "freq       77841\n",
      "Name: bcc, dtype: object\n",
      "307592    michael.young@northwestern.com\n",
      "377306                                  \n",
      "211179          vince.kaminski@enron.com\n",
      "258824                                  \n",
      "502896                                  \n",
      "104112        steve.venturatos@enron.com\n",
      "510109            kathy.axford@enron.com\n",
      "440768                                  \n",
      "451619             mark.taylor@enron.com\n",
      "114270                                  \n",
      "Name: bcc, dtype: object\n"
     ]
    }
   ],
   "source": [
    "# parse email fields ['to', 'from', 'cc', 'bcc'] and put into new columns ['email_to', 'email_from', 'cc', 'bcc']\n",
    "\n",
    "def parse_email_address(row, field):\n",
    "    try:\n",
    "        y = email.message_from_string(row.message)\n",
    "        return email.utils.parseaddr(y.get(field))[1]\n",
    "    except:\n",
    "        return None\n",
    "    \n",
    "field_list = ['to', 'from', 'cc', 'bcc']    \n",
    "new_col_list = ['email_to', 'email_from', 'cc', 'bcc']\n",
    "\n",
    "for field, new_col in zip(field_list, new_col_list):\n",
    "    print(field, new_col)\n",
    "    df_20[new_col] = df_20.apply(parse_email_address, axis = 1, args = [field])\n",
    "    print(df_20[new_col].describe())\n",
    "    print(df_20[new_col].iloc[0:10])\n"
   ]
  },
  {
   "cell_type": "code",
   "execution_count": 9,
   "metadata": {},
   "outputs": [
    {
     "name": "stdout",
     "output_type": "stream",
     "text": [
      "(103480, 6)\n",
      "Index(['file', 'message', 'email_to', 'email_from', 'cc', 'bcc'], dtype='object')\n"
     ]
    }
   ],
   "source": [
    "print(df_20.shape)\n",
    "print(df_20.columns)\n"
   ]
  },
  {
   "cell_type": "code",
   "execution_count": 10,
   "metadata": {},
   "outputs": [
    {
     "name": "stdout",
     "output_type": "stream",
     "text": [
      "subject subject\n"
     ]
    },
    {
     "name": "stderr",
     "output_type": "stream",
     "text": [
      "C:\\Users\\ibshi\\anaconda3\\lib\\site-packages\\ipykernel_launcher.py:15: SettingWithCopyWarning: \n",
      "A value is trying to be set on a copy of a slice from a DataFrame.\n",
      "Try using .loc[row_indexer,col_indexer] = value instead\n",
      "\n",
      "See the caveats in the documentation: https://pandas.pydata.org/pandas-docs/stable/user_guide/indexing.html#returning-a-view-versus-a-copy\n",
      "  from ipykernel import kernelapp as app\n"
     ]
    },
    {
     "name": "stdout",
     "output_type": "stream",
     "text": [
      "count     103480\n",
      "unique     63467\n",
      "top             \n",
      "freq        3882\n",
      "Name: subject, dtype: object\n",
      "307592              Turbine Purchase Transaction  Documents\n",
      "377306                                  Wheatland Test Data\n",
      "211179                                Iraq and Crude Output\n",
      "258824                                  BEAVER CREEK BIKING\n",
      "502896         MTG: How to Handle Utility Default Proposals\n",
      "104112                                             New book\n",
      "510109             Jerald Surface Interview, July 6th, 2001\n",
      "440768    Dinner Invitation - April 10, 2001 (For Tradin...\n",
      "451619                                           Re: Mexico\n",
      "114270                                    Positions for 9/7\n",
      "Name: subject, dtype: object\n",
      "x-from x_from\n",
      "count       103472\n",
      "unique       13274\n",
      "top       Kay Mann\n",
      "freq          3312\n",
      "Name: x_from, dtype: object\n",
      "307592    \"DeBerry, Jeremiah A.\" <JeremiahDeberry@paulha...\n",
      "377306                                    Richard Broussard\n",
      "211179                                     Vince J Kaminski\n",
      "258824    Hitchcock, Dorie </O=ENRON/OU=NA/CN=RECIPIENTS...\n",
      "502896                                     David W Delainey\n",
      "104112                                       David Baumbach\n",
      "510109    Rodriguez, Grace </O=ENRON/OU=NA/CN=RECIPIENTS...\n",
      "440768                                     Hunter S Shively\n",
      "451619                                       Carol St Clair\n",
      "114270    Forney, John M. </O=ENRON/OU=NA/CN=RECIPIENTS/...\n",
      "Name: x_from, dtype: object\n",
      "x-to x_to\n",
      "count     103472\n",
      "unique     31910\n",
      "top             \n",
      "freq        1855\n",
      "Name: x_to, dtype: object\n",
      "307592    \"'Kay.Mann@Enron.com'\" <Kay.Mann@Enron.com>, \"...\n",
      "377306                          Benjamin Rogers, Don Miller\n",
      "211179    John L Nowlan, Scott Tholan, Robert Johnston, ...\n",
      "258824    Kitchen, Louise </O=ENRON/OU=NA/CN=RECIPIENTS/...\n",
      "502896                                            Lou L Pai\n",
      "104112                                         Gary Stadler\n",
      "510109    Mallory, Chris </O=ENRON/OU=NA/CN=RECIPIENTS/C...\n",
      "440768                                        Airam Arteaga\n",
      "451619                                        David Forster\n",
      "114270    Capasso, Joe </O=ENRON/OU=NA/CN=RECIPIENTS/CN=...\n",
      "Name: x_to, dtype: object\n"
     ]
    }
   ],
   "source": [
    "# parse text fields (excluding body) ['subject', 'x-from', 'x-to'], and put into new columns ['subject', 'x_from', 'x_to']\n",
    "\n",
    "def parse_email(row, field):\n",
    "    try:\n",
    "        y = email.message_from_string(row.message)\n",
    "        return y.get(field)\n",
    "    except:\n",
    "        return None\n",
    "\n",
    "field_list = ['subject', 'x-from', 'x-to']    \n",
    "new_col_list = ['subject', 'x_from', 'x_to']\n",
    "\n",
    "for field, new_col in zip(field_list, new_col_list):\n",
    "    print(field, new_col)\n",
    "    df_20[new_col] = df_20.apply(parse_email, axis = 1, args = [field])\n",
    "    print(df_20[new_col].describe())\n",
    "    print(df_20[new_col].iloc[0:10])\n"
   ]
  },
  {
   "cell_type": "code",
   "execution_count": 11,
   "metadata": {},
   "outputs": [
    {
     "name": "stdout",
     "output_type": "stream",
     "text": [
      "(103480, 9)\n",
      "Index(['file', 'message', 'email_to', 'email_from', 'cc', 'bcc', 'subject',\n",
      "       'x_from', 'x_to'],\n",
      "      dtype='object')\n"
     ]
    }
   ],
   "source": [
    "print(df_20.shape)\n",
    "print(df_20.columns)\n"
   ]
  },
  {
   "cell_type": "code",
   "execution_count": 12,
   "metadata": {},
   "outputs": [
    {
     "name": "stdout",
     "output_type": "stream",
     "text": [
      "date date_sent\n",
      "count                        103480\n",
      "unique                        78806\n",
      "top       2001-06-27 16:02:00-07:00\n",
      "freq                            230\n",
      "Name: date_sent, dtype: object\n",
      "307592    2001-04-09 13:56:00-07:00\n",
      "377306    2000-09-28 07:48:00-07:00\n",
      "211179    2000-06-19 05:27:00-07:00\n",
      "258824    2001-08-13 10:45:08-07:00\n",
      "502896    2000-11-29 07:18:00-08:00\n",
      "104112    2000-08-17 06:42:00-07:00\n",
      "510109    2001-06-29 12:02:27-07:00\n",
      "440768    2001-03-21 01:43:00-08:00\n",
      "451619    2000-07-06 09:06:00-07:00\n",
      "114270    2001-09-06 14:25:26-07:00\n",
      "Name: date_sent, dtype: object\n"
     ]
    },
    {
     "name": "stderr",
     "output_type": "stream",
     "text": [
      "C:\\Users\\ibshi\\anaconda3\\lib\\site-packages\\ipykernel_launcher.py:17: SettingWithCopyWarning: \n",
      "A value is trying to be set on a copy of a slice from a DataFrame.\n",
      "Try using .loc[row_indexer,col_indexer] = value instead\n",
      "\n",
      "See the caveats in the documentation: https://pandas.pydata.org/pandas-docs/stable/user_guide/indexing.html#returning-a-view-versus-a-copy\n"
     ]
    }
   ],
   "source": [
    "# parse date fields ['date'], and put into new columns ['date_sent']\n",
    "\n",
    "def parse_date(row, field):\n",
    "    try:\n",
    "        y = email.message_from_string(row.message)\n",
    "        date_sent_str = y.get(field)\n",
    "        date_sent = email.utils.parsedate_to_datetime(date_sent_str)\n",
    "        return date_sent\n",
    "    except:\n",
    "        return None\n",
    "\n",
    "field_list = ['date']    \n",
    "new_col_list = ['date_sent']\n",
    "\n",
    "for field, new_col in zip(field_list, new_col_list):\n",
    "    print(field, new_col)\n",
    "    df_20[new_col] = df_20.apply(parse_date, axis = 1, args = [field])\n",
    "    print(df_20[new_col].describe())\n",
    "    print(df_20[new_col].iloc[0:10])\n"
   ]
  },
  {
   "cell_type": "code",
   "execution_count": 13,
   "metadata": {},
   "outputs": [
    {
     "name": "stdout",
     "output_type": "stream",
     "text": [
      "count                                                103480\n",
      "unique                                                84495\n",
      "top       b\"As you know, Enron Net Works (ENW) and Enron...\n",
      "freq                                                     30\n",
      "Name: body, dtype: object\n",
      "307592    b'\"paulhastings.com\" made the following annota...\n",
      "377306    b\"I verified the Wheatland test data in the re...\n",
      "211179    b\"An interesting piece of information from the...\n",
      "Name: body, dtype: object\n"
     ]
    },
    {
     "name": "stderr",
     "output_type": "stream",
     "text": [
      "C:\\Users\\ibshi\\anaconda3\\lib\\site-packages\\ipykernel_launcher.py:23: SettingWithCopyWarning: \n",
      "A value is trying to be set on a copy of a slice from a DataFrame.\n",
      "Try using .loc[row_indexer,col_indexer] = value instead\n",
      "\n",
      "See the caveats in the documentation: https://pandas.pydata.org/pandas-docs/stable/user_guide/indexing.html#returning-a-view-versus-a-copy\n"
     ]
    }
   ],
   "source": [
    "# parse body field and put into new column ['body']\n",
    "\n",
    "\n",
    "def parse_body(row):\n",
    "    try:\n",
    "        y = email.message_from_string(row.message)\n",
    "        if y.is_multipart():\n",
    "            for part in y.walk():\n",
    "                ctype = part.get_content_type()\n",
    "                cdispo = str(part.get('Content-Disposition'))\n",
    "\n",
    "                # skip any text/plain (txt) attachments\n",
    "                if ctype == 'text/plain' and 'attachment' not in cdispo:\n",
    "                    body = part.get_payload(decode=True)  # decode\n",
    "                    break\n",
    "        # not multipart - i.e. plain text, no attachments, keeping fingers crossed\n",
    "        else:\n",
    "            body = y.get_payload(decode=True)\n",
    "        return body\n",
    "    except:\n",
    "        return None\n",
    "\n",
    "df_20['body'] = df_20.apply(parse_body, axis = 1)\n",
    "print(df_20['body'].describe())\n",
    "print(df_20['body'].iloc[0:3])\n"
   ]
  },
  {
   "cell_type": "code",
   "execution_count": 14,
   "metadata": {},
   "outputs": [
    {
     "name": "stdout",
     "output_type": "stream",
     "text": [
      "(103480, 11)\n",
      "Index(['file', 'message', 'email_to', 'email_from', 'cc', 'bcc', 'subject',\n",
      "       'x_from', 'x_to', 'date_sent', 'body'],\n",
      "      dtype='object')\n"
     ]
    }
   ],
   "source": [
    "print(df_20.shape)\n",
    "print(df_20.columns)\n"
   ]
  },
  {
   "cell_type": "code",
   "execution_count": 15,
   "metadata": {},
   "outputs": [],
   "source": [
    "# save df_20.csv\n",
    "\n",
    "df_20.to_csv('df_20.csv', index = True)\n"
   ]
  },
  {
   "cell_type": "code",
   "execution_count": null,
   "metadata": {},
   "outputs": [],
   "source": []
  }
 ],
 "metadata": {
  "kernelspec": {
   "display_name": "Python 3",
   "language": "python",
   "name": "python3"
  },
  "language_info": {
   "codemirror_mode": {
    "name": "ipython",
    "version": 3
   },
   "file_extension": ".py",
   "mimetype": "text/x-python",
   "name": "python",
   "nbconvert_exporter": "python",
   "pygments_lexer": "ipython3",
   "version": "3.7.6"
  }
 },
 "nbformat": 4,
 "nbformat_minor": 4
}
